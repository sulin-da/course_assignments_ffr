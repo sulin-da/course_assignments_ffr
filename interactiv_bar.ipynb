{
 "cells": [
  {
   "cell_type": "code",
   "execution_count": 1,
   "metadata": {},
   "outputs": [
    {
     "data": {
      "application/vnd.jupyter.widget-view+json": {
       "model_id": "e9bf1e482f2d4734bc1a6dfd23d9cbf3",
       "version_major": 2,
       "version_minor": 0
      },
      "text/plain": [
       "Canvas(toolbar=Toolbar(toolitems=[('Home', 'Reset original view', 'home', 'home'), ('Back', 'Back to previous …"
      ]
     },
     "metadata": {},
     "output_type": "display_data"
    },
    {
     "data": {
      "text/plain": [
       "7"
      ]
     },
     "execution_count": 1,
     "metadata": {},
     "output_type": "execute_result"
    }
   ],
   "source": [
    "%matplotlib widget\n",
    "import pandas as pd\n",
    "import numpy as np\n",
    "import matplotlib.pyplot as plt\n",
    "import scipy.stats as stats\n",
    "import matplotlib.colors as colors\n",
    "import matplotlib as mpl\n",
    "from mpl_toolkits.axes_grid1.inset_locator import inset_axes\n",
    "\n",
    "np.random.seed(12345)\n",
    "\n",
    "df = pd.DataFrame([np.random.normal(32000,200000,3650), \n",
    "                   np.random.normal(43000,100000,3650), \n",
    "                   np.random.normal(43500,140000,3650), \n",
    "                   np.random.normal(48000,70000,3650)], \n",
    "                  index=[1992,1993,1994,1995])\n",
    "\n",
    "df = df.transpose()\n",
    "n = len(df)\n",
    "\n",
    "# since our samples come from normal distribution, and our sample size is 3650, which is much bigger than 30, so our sample means follow normal distributions\n",
    "# sem is sqrt(s2/N) which is the stardard error of sample mean, s is the sample standard deviation\n",
    "# ci_95 is the 95% confidence intervals for sample means\n",
    "ci_95 = stats.norm.interval(0.95, loc=np.mean(df), scale=stats.sem(df))\n",
    "\n",
    "# plot default bar chart with 95% confidence intervals\n",
    "barwidth = 0.5\n",
    "df_mean = np.array(df.mean())\n",
    "df_sem = stats.sem(df)\n",
    "# set figure size to make the chart nice \n",
    "fig, ax1 = plt.subplots(figsize=(5,6))\n",
    "plt.xlim(0, 3)\n",
    "plt.ylim(-10000, 55000)\n",
    "ax1.spines['bottom'].set_position('zero')\n",
    "ax1.spines['top'].set_color('none')\n",
    "ax1.spines['right'].set_color('none')\n",
    "plt.title('Interactive Bar Chart of Sample Mean')\n",
    "\n",
    "# plot default bar chart with y equals 40000\n",
    "y_default = 40000\n",
    "lhor = ax1.axhline(y_default, xmin=-0.05, clip_on=False, color='r', linewidth=2)\n",
    "p = stats.norm.cdf((y_default - df_mean)/df_sem)\n",
    "bar_cm = mpl.cm.RdBu(p)\n",
    "bar_chart = ax1.bar([0.4, 0.9, 1.4, 1.9], height=df_mean, yerr=df_sem, width=barwidth, \n",
    "                    capsize=5, color = bar_cm, edgecolor ='black')\n",
    "plt.xticks([0, 0.5, 1, 1.5, 2.0, 2.5, 3.0], ('', '1992', '1993', '1994', '1995', '', ''))\n",
    "plt.tick_params(axis='x', length=0)\n",
    "plt.tick_params(axis='y', direction='in')\n",
    "cbaxes = inset_axes(ax1, width=\"70%\", height=\"2%\", loc=4) \n",
    "cbar = plt.colorbar(mpl.cm.ScalarMappable(cmap='RdBu_r'), cax=cbaxes, ticks=np.arange(0,1.05,0.1),\n",
    "                    orientation='horizontal', boundaries=np.arange(0,1.05,0.1), drawedges=True)\n",
    "cbar.ax.tick_params(size=0, labelsize=7, )\n",
    "cbaxes.xaxis.set_ticks_position(\"top\")\n",
    "cbar.set_label(label='Probability Colorbar', size=8)\n",
    "\n",
    "# interactively color the bars based on users' selections of y values \n",
    "def onclick(event):\n",
    "    y_select = event.ydata\n",
    "    lhor.set_ydata(y_select)\n",
    "    p = stats.norm.cdf((y_select - df_mean)/df_sem)\n",
    "    bar_cm = mpl.cm.RdBu(p)\n",
    "    for i in np.arange(0,4):\n",
    "        bar_chart[i].set_color(bar_cm[i])\n",
    "    fig.canvas.draw()\n",
    "    \n",
    "fig.canvas.mpl_connect('button_press_event', onclick)\n",
    "\n"
   ]
  }
 ],
 "metadata": {
  "kernelspec": {
   "display_name": "Python 3",
   "language": "python",
   "name": "python3"
  },
  "language_info": {
   "codemirror_mode": {
    "name": "ipython",
    "version": 3
   },
   "file_extension": ".py",
   "mimetype": "text/x-python",
   "name": "python",
   "nbconvert_exporter": "python",
   "pygments_lexer": "ipython3",
   "version": "3.7.4"
  }
 },
 "nbformat": 4,
 "nbformat_minor": 4
}
